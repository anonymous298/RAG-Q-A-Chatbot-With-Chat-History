{
 "cells": [
  {
   "cell_type": "code",
   "execution_count": 7,
   "metadata": {},
   "outputs": [],
   "source": [
    "import os\n",
    "import streamlit as st\n",
    "\n",
    "from dotenv import load_dotenv\n",
    "\n",
    "from langchain_community.document_loaders import WebBaseLoader\n",
    "from langchain.text_splitter import RecursiveCharacterTextSplitter\n",
    "from langchain_chroma import Chroma\n",
    "from langchain.chains.combine_documents import create_stuff_documents_chain\n",
    "from langchain.chains import create_retrieval_chain\n",
    "from langchain_ollama import ChatOllama, OllamaEmbeddings\n",
    "from langchain.chains import create_history_aware_retriever\n",
    "from langchain_core.prompts import MessagesPlaceholder\n",
    "from langchain.prompts.chat import ChatPromptTemplate\n",
    "from langchain_community.chat_message_histories import ChatMessageHistory\n",
    "from langchain_core.chat_history import BaseChatMessageHistory\n",
    "from langchain_core.runnables.history import RunnableWithMessageHistory"
   ]
  },
  {
   "cell_type": "code",
   "execution_count": 3,
   "metadata": {},
   "outputs": [],
   "source": [
    "loader = WebBaseLoader('https://aws.amazon.com/what-is/ai-agents/')\n",
    "documents = loader.load()"
   ]
  },
  {
   "cell_type": "code",
   "execution_count": 5,
   "metadata": {},
   "outputs": [],
   "source": [
    "text_splitter = RecursiveCharacterTextSplitter(chunk_size=1000, chunk_overlap=200)\n",
    "documents = text_splitter.split_documents(documents)"
   ]
  },
  {
   "cell_type": "code",
   "execution_count": 8,
   "metadata": {},
   "outputs": [],
   "source": [
    "embedding = OllamaEmbeddings(model='mxbai-embed-large:335m')"
   ]
  },
  {
   "cell_type": "code",
   "execution_count": 9,
   "metadata": {},
   "outputs": [],
   "source": [
    "vectordb = Chroma.from_documents(documents=documents, embedding=embedding)"
   ]
  },
  {
   "cell_type": "code",
   "execution_count": 10,
   "metadata": {},
   "outputs": [
    {
     "data": {
      "text/plain": [
       "[(Document(metadata={'description': 'What is AI agents how and why businesses use AI agents, and how to use AI agents with AWS.', 'language': 'en-US', 'source': 'https://aws.amazon.com/what-is/ai-agents/', 'title': 'What are AI Agents?- Agents in Artificial Intelligence Explained - AWS'}, page_content='What are AI Agents?\\n\\nAn artificial intelligence (AI) agent is a software program that can interact with its environment, collect data, and use the data to perform self-determined tasks to meet predetermined goals. Humans set goals, but an AI agent independently chooses the best actions it needs to perform to achieve those goals. For example, consider a contact center AI agent that wants to resolves customer queries. The agent will automatically ask the customer different questions, look up information in internal documents, and respond with a solution. Based on the customer responses, it determines if it can resolve the query itself or pass it on to a human.\\nLearn more about what is artificial intelligence (AI)\\n\\n\\n\\n\\n\\n\\n\\nWhat are the key principles that define AI agents?'),\n",
       "  0.15948939323425293),\n",
       " (Document(metadata={'description': 'What is AI agents how and why businesses use AI agents, and how to use AI agents with AWS.', 'language': 'en-US', 'source': 'https://aws.amazon.com/what-is/ai-agents/', 'title': 'What are AI Agents?- Agents in Artificial Intelligence Explained - AWS'}, page_content='How does an AI agent work?'),\n",
       "  0.234174445271492),\n",
       " (Document(metadata={'description': 'What is AI agents how and why businesses use AI agents, and how to use AI agents with AWS.', 'language': 'en-US', 'source': 'https://aws.amazon.com/what-is/ai-agents/', 'title': 'What are AI Agents?- Agents in Artificial Intelligence Explained - AWS'}, page_content='What are the types of AI agents?'),\n",
       "  0.3092724680900574),\n",
       " (Document(metadata={'description': 'What is AI agents how and why businesses use AI agents, and how to use AI agents with AWS.', 'language': 'en-US', 'source': 'https://aws.amazon.com/what-is/ai-agents/', 'title': 'What are AI Agents?- Agents in Artificial Intelligence Explained - AWS'}, page_content='What are the key principles that define AI agents? \\n\\nAll software autonomously completes different tasks as determined by the software developer. So, what makes AI or intelligent agents special?\\xa0\\nAI agents are rational agents. They make rational decisions based on their perceptions and data to produce optimal performance and results. An AI agent senses its environment with physical or software interfaces.\\nFor example, a robotic agent collects sensor data, and a chatbot uses customer queries as input. Then, the AI agent applies the data to make an informed decision. It analyzes the collected data to predict the best outcomes that support predetermined goals. The agent also uses the results to formulate the next action that it should take. For example, self-driving cars navigate around obstacles on the road based on data from multiple sensors.\\n\\n\\n\\n\\n\\n\\n\\nWhat are the benefits of using AI agents?'),\n",
       "  0.3410511612892151)]"
      ]
     },
     "execution_count": 10,
     "metadata": {},
     "output_type": "execute_result"
    }
   ],
   "source": [
    "vectordb.similarity_search_with_score('what is ai agent')"
   ]
  },
  {
   "cell_type": "code",
   "execution_count": 11,
   "metadata": {},
   "outputs": [],
   "source": [
    "retriever = vectordb.as_retriever()"
   ]
  },
  {
   "cell_type": "code",
   "execution_count": 13,
   "metadata": {},
   "outputs": [],
   "source": [
    "llm = ChatOllama(model='llama3.2:3b')"
   ]
  },
  {
   "cell_type": "code",
   "execution_count": 15,
   "metadata": {},
   "outputs": [],
   "source": [
    "system_prompt = (\n",
    "    \"Give a chat history and the latest user question\"\n",
    "    \"which might reference context in the chat history,\"\n",
    "    \"formulate a stadalone question which can be understood\"\n",
    "    \"without the chat history. Do Not answer the question\"\n",
    "    'just reformulate it if needed and otherwise return it as is.'\n",
    ")"
   ]
  },
  {
   "cell_type": "code",
   "execution_count": 31,
   "metadata": {},
   "outputs": [],
   "source": [
    "template = \"\"\"Answer the question based only on the following context:\n",
    "\n",
    "{context}\n",
    "\n",
    "Question: {input}\n",
    "\"\"\"\n",
    "\n",
    "qa_prompt = ChatPromptTemplate.from_messages(\n",
    "    [\n",
    "        ('system', system_prompt),\n",
    "        MessagesPlaceholder('chat_history'),\n",
    "        ('human', template)\n",
    "    ]\n",
    ")"
   ]
  },
  {
   "cell_type": "code",
   "execution_count": 28,
   "metadata": {},
   "outputs": [],
   "source": [
    "contextualize_q_prompt = ChatPromptTemplate.from_messages(\n",
    "    [\n",
    "        ('system', system_prompt),\n",
    "        MessagesPlaceholder('chat_history'),\n",
    "        ('human', '{input}')\n",
    "    ]\n",
    ")"
   ]
  },
  {
   "cell_type": "code",
   "execution_count": 29,
   "metadata": {},
   "outputs": [],
   "source": [
    "history_aware_retriever = create_history_aware_retriever(llm, retriever, contextualize_q_prompt)"
   ]
  },
  {
   "cell_type": "code",
   "execution_count": 30,
   "metadata": {},
   "outputs": [
    {
     "data": {
      "text/plain": [
       "[Document(metadata={'description': 'What is AI agents how and why businesses use AI agents, and how to use AI agents with AWS.', 'language': 'en-US', 'source': 'https://aws.amazon.com/what-is/ai-agents/', 'title': 'What are AI Agents?- Agents in Artificial Intelligence Explained - AWS'}, page_content='What are AI Agents?\\n\\nAn artificial intelligence (AI) agent is a software program that can interact with its environment, collect data, and use the data to perform self-determined tasks to meet predetermined goals. Humans set goals, but an AI agent independently chooses the best actions it needs to perform to achieve those goals. For example, consider a contact center AI agent that wants to resolves customer queries. The agent will automatically ask the customer different questions, look up information in internal documents, and respond with a solution. Based on the customer responses, it determines if it can resolve the query itself or pass it on to a human.\\nLearn more about what is artificial intelligence (AI)\\n\\n\\n\\n\\n\\n\\n\\nWhat are the key principles that define AI agents?'),\n",
       " Document(metadata={'description': 'What is AI agents how and why businesses use AI agents, and how to use AI agents with AWS.', 'language': 'en-US', 'source': 'https://aws.amazon.com/what-is/ai-agents/', 'title': 'What are AI Agents?- Agents in Artificial Intelligence Explained - AWS'}, page_content='How does an AI agent work?'),\n",
       " Document(metadata={'description': 'What is AI agents how and why businesses use AI agents, and how to use AI agents with AWS.', 'language': 'en-US', 'source': 'https://aws.amazon.com/what-is/ai-agents/', 'title': 'What are AI Agents?- Agents in Artificial Intelligence Explained - AWS'}, page_content='What are the types of AI agents?'),\n",
       " Document(metadata={'description': 'What is AI agents how and why businesses use AI agents, and how to use AI agents with AWS.', 'language': 'en-US', 'source': 'https://aws.amazon.com/what-is/ai-agents/', 'title': 'What are AI Agents?- Agents in Artificial Intelligence Explained - AWS'}, page_content='What are AI Agents?- Agents in Artificial Intelligence Explained - AWS\\n\\n\\n\\n\\n\\n\\n\\n\\n\\n\\n\\n\\n\\n\\n\\n\\n\\n\\n\\n\\n\\n\\n\\n\\n\\n\\n\\n\\n\\n\\n\\n\\n\\n\\n\\n\\n\\n\\n\\n\\n\\n\\n\\n\\n\\n\\n\\n\\n\\n\\n\\n\\n\\n\\n\\n\\n\\n\\n\\n\\n\\n\\n Skip to main content\\n\\n\\n\\n\\n\\nClick here to return to Amazon Web Services homepage\\n\\n\\n\\nAbout AWS\\nContact Us\\n Support \\xa0 \\n       \\n\\n \\n English \\xa0 \\n       \\n\\n \\n My Account \\xa0 \\n       \\n\\n \\n\\n\\n\\n\\n Sign In\\n\\n\\n  Create an AWS Account \\n\\n\\n\\n\\n\\n\\n\\n   \\n\\n\\n   \\n\\n\\n\\n Close \\n\\n            Profile \\n          \\n\\n            Your profile helps improve your interactions with select AWS experiences. \\n          \\n\\n\\n\\n Login\\n\\n\\n\\n\\n\\n Close \\n\\n            Profile \\n          \\n\\n            Your profile helps improve your interactions with select AWS experiences. \\n          \\n\\n\\n\\n View profile\\n\\n\\n\\n Log out\\n\\n\\n\\n\\n\\n\\n\\n\\n\\n\\n\\nAmazon Q\\nProducts\\nSolutions\\nPricing\\nDocumentation\\nLearn\\nPartner Network\\nAWS Marketplace\\nCustomer Enablement\\nEvents\\nExplore More \\n\\n\\n\\n\\n\\n\\n\\n \\n\\n\\n\\n\\n\\n\\n\\n\\n\\n\\n\\n\\n\\n Close \\n\\n\\n\\nعربي\\nBahasa Indonesia\\nDeutsch\\nEnglish\\nEspañol\\nFrançais\\nItaliano\\nPortuguês')]"
      ]
     },
     "execution_count": 30,
     "metadata": {},
     "output_type": "execute_result"
    }
   ],
   "source": [
    "history_aware_retriever.invoke({'input' : 'what is ai agents'})"
   ]
  },
  {
   "cell_type": "code",
   "execution_count": 32,
   "metadata": {},
   "outputs": [],
   "source": [
    "document_chain = create_stuff_documents_chain(llm, qa_prompt)\n",
    "\n",
    "rag_chain = create_retrieval_chain(history_aware_retriever, document_chain)"
   ]
  },
  {
   "cell_type": "code",
   "execution_count": 33,
   "metadata": {},
   "outputs": [],
   "source": [
    "store = {}\n",
    "\n",
    "def get_session_memory(session_id: str) -> BaseChatMessageHistory:\n",
    "    if session_id not in store:\n",
    "        store[session_id] = ChatMessageHistory()\n",
    "\n",
    "    else:\n",
    "        return store[session_id]"
   ]
  },
  {
   "cell_type": "code",
   "execution_count": 34,
   "metadata": {},
   "outputs": [],
   "source": [
    "runnable = RunnableWithMessageHistory(\n",
    "    rag_chain,\n",
    "    get_session_memory,\n",
    "    input_messages_key='input',\n",
    "    history_messages_key='chat_history',\n",
    "    output_messages_key='answer'\n",
    ")"
   ]
  },
  {
   "cell_type": "code",
   "execution_count": 36,
   "metadata": {},
   "outputs": [
    {
     "data": {
      "text/plain": [
       "{'input': 'what is ai agents',\n",
       " 'chat_history': [],\n",
       " 'context': [Document(metadata={'description': 'What is AI agents how and why businesses use AI agents, and how to use AI agents with AWS.', 'language': 'en-US', 'source': 'https://aws.amazon.com/what-is/ai-agents/', 'title': 'What are AI Agents?- Agents in Artificial Intelligence Explained - AWS'}, page_content='What are AI Agents?\\n\\nAn artificial intelligence (AI) agent is a software program that can interact with its environment, collect data, and use the data to perform self-determined tasks to meet predetermined goals. Humans set goals, but an AI agent independently chooses the best actions it needs to perform to achieve those goals. For example, consider a contact center AI agent that wants to resolves customer queries. The agent will automatically ask the customer different questions, look up information in internal documents, and respond with a solution. Based on the customer responses, it determines if it can resolve the query itself or pass it on to a human.\\nLearn more about what is artificial intelligence (AI)\\n\\n\\n\\n\\n\\n\\n\\nWhat are the key principles that define AI agents?'),\n",
       "  Document(metadata={'description': 'What is AI agents how and why businesses use AI agents, and how to use AI agents with AWS.', 'language': 'en-US', 'source': 'https://aws.amazon.com/what-is/ai-agents/', 'title': 'What are AI Agents?- Agents in Artificial Intelligence Explained - AWS'}, page_content='How does an AI agent work?'),\n",
       "  Document(metadata={'description': 'What is AI agents how and why businesses use AI agents, and how to use AI agents with AWS.', 'language': 'en-US', 'source': 'https://aws.amazon.com/what-is/ai-agents/', 'title': 'What are AI Agents?- Agents in Artificial Intelligence Explained - AWS'}, page_content='What are the types of AI agents?'),\n",
       "  Document(metadata={'description': 'What is AI agents how and why businesses use AI agents, and how to use AI agents with AWS.', 'language': 'en-US', 'source': 'https://aws.amazon.com/what-is/ai-agents/', 'title': 'What are AI Agents?- Agents in Artificial Intelligence Explained - AWS'}, page_content='What are AI Agents?- Agents in Artificial Intelligence Explained - AWS\\n\\n\\n\\n\\n\\n\\n\\n\\n\\n\\n\\n\\n\\n\\n\\n\\n\\n\\n\\n\\n\\n\\n\\n\\n\\n\\n\\n\\n\\n\\n\\n\\n\\n\\n\\n\\n\\n\\n\\n\\n\\n\\n\\n\\n\\n\\n\\n\\n\\n\\n\\n\\n\\n\\n\\n\\n\\n\\n\\n\\n\\n\\n Skip to main content\\n\\n\\n\\n\\n\\nClick here to return to Amazon Web Services homepage\\n\\n\\n\\nAbout AWS\\nContact Us\\n Support \\xa0 \\n       \\n\\n \\n English \\xa0 \\n       \\n\\n \\n My Account \\xa0 \\n       \\n\\n \\n\\n\\n\\n\\n Sign In\\n\\n\\n  Create an AWS Account \\n\\n\\n\\n\\n\\n\\n\\n   \\n\\n\\n   \\n\\n\\n\\n Close \\n\\n            Profile \\n          \\n\\n            Your profile helps improve your interactions with select AWS experiences. \\n          \\n\\n\\n\\n Login\\n\\n\\n\\n\\n\\n Close \\n\\n            Profile \\n          \\n\\n            Your profile helps improve your interactions with select AWS experiences. \\n          \\n\\n\\n\\n View profile\\n\\n\\n\\n Log out\\n\\n\\n\\n\\n\\n\\n\\n\\n\\n\\n\\nAmazon Q\\nProducts\\nSolutions\\nPricing\\nDocumentation\\nLearn\\nPartner Network\\nAWS Marketplace\\nCustomer Enablement\\nEvents\\nExplore More \\n\\n\\n\\n\\n\\n\\n\\n \\n\\n\\n\\n\\n\\n\\n\\n\\n\\n\\n\\n\\n\\n Close \\n\\n\\n\\nعربي\\nBahasa Indonesia\\nDeutsch\\nEnglish\\nEspañol\\nFrançais\\nItaliano\\nPortuguês')],\n",
       " 'answer': 'An AI agent is a software program that can interact with its environment, collect data, and use the data to perform self-determined tasks to meet predetermined goals.'}"
      ]
     },
     "execution_count": 36,
     "metadata": {},
     "output_type": "execute_result"
    }
   ],
   "source": [
    "response = runnable.invoke(\n",
    "    {'input' : \"what is ai agents\"},\n",
    "    config = {'configurable' : {'session_id' : 'chat1'}}\n",
    ")\n",
    "response"
   ]
  },
  {
   "cell_type": "code",
   "execution_count": 37,
   "metadata": {},
   "outputs": [
    {
     "data": {
      "text/plain": [
       "{'input': 'what is its applications',\n",
       " 'chat_history': [HumanMessage(content='what is ai agents', additional_kwargs={}, response_metadata={}),\n",
       "  AIMessage(content='An AI agent is a software program that can interact with its environment, collect data, and use the data to perform self-determined tasks to meet predetermined goals.', additional_kwargs={}, response_metadata={})],\n",
       " 'context': [Document(metadata={'description': 'What is AI agents how and why businesses use AI agents, and how to use AI agents with AWS.', 'language': 'en-US', 'source': 'https://aws.amazon.com/what-is/ai-agents/', 'title': 'What are AI Agents?- Agents in Artificial Intelligence Explained - AWS'}, page_content='What are AI Agents?\\n\\nAn artificial intelligence (AI) agent is a software program that can interact with its environment, collect data, and use the data to perform self-determined tasks to meet predetermined goals. Humans set goals, but an AI agent independently chooses the best actions it needs to perform to achieve those goals. For example, consider a contact center AI agent that wants to resolves customer queries. The agent will automatically ask the customer different questions, look up information in internal documents, and respond with a solution. Based on the customer responses, it determines if it can resolve the query itself or pass it on to a human.\\nLearn more about what is artificial intelligence (AI)\\n\\n\\n\\n\\n\\n\\n\\nWhat are the key principles that define AI agents?'),\n",
       "  Document(metadata={'description': 'What is AI agents how and why businesses use AI agents, and how to use AI agents with AWS.', 'language': 'en-US', 'source': 'https://aws.amazon.com/what-is/ai-agents/', 'title': 'What are AI Agents?- Agents in Artificial Intelligence Explained - AWS'}, page_content='What are the key principles that define AI agents? \\n\\nAll software autonomously completes different tasks as determined by the software developer. So, what makes AI or intelligent agents special?\\xa0\\nAI agents are rational agents. They make rational decisions based on their perceptions and data to produce optimal performance and results. An AI agent senses its environment with physical or software interfaces.\\nFor example, a robotic agent collects sensor data, and a chatbot uses customer queries as input. Then, the AI agent applies the data to make an informed decision. It analyzes the collected data to predict the best outcomes that support predetermined goals. The agent also uses the results to formulate the next action that it should take. For example, self-driving cars navigate around obstacles on the road based on data from multiple sensors.\\n\\n\\n\\n\\n\\n\\n\\nWhat are the benefits of using AI agents?'),\n",
       "  Document(metadata={'description': 'What is AI agents how and why businesses use AI agents, and how to use AI agents with AWS.', 'language': 'en-US', 'source': 'https://aws.amazon.com/what-is/ai-agents/', 'title': 'What are AI Agents?- Agents in Artificial Intelligence Explained - AWS'}, page_content='How does an AI agent work?'),\n",
       "  Document(metadata={'description': 'What is AI agents how and why businesses use AI agents, and how to use AI agents with AWS.', 'language': 'en-US', 'source': 'https://aws.amazon.com/what-is/ai-agents/', 'title': 'What are AI Agents?- Agents in Artificial Intelligence Explained - AWS'}, page_content='What are the types of AI agents?')],\n",
       " 'answer': \"It's applications.\\n\\nExamples include:\\n\\n*   Self-driving cars\\n*   Chatbots\\n*   Personal assistants\\n*   Robotic systems\\n*   Contact center AI agents\\n*   Autonomous drones\\n*   Smart home devices\\n*   Healthcare diagnosis and treatment recommendations\\n*   Financial portfolio management\\n*   Virtual customer service\"}"
      ]
     },
     "execution_count": 37,
     "metadata": {},
     "output_type": "execute_result"
    }
   ],
   "source": [
    "response = runnable.invoke(\n",
    "    {'input' : \"what is its applications\"},\n",
    "    config = {'configurable' : {'session_id' : 'chat1'}}\n",
    ")\n",
    "response"
   ]
  },
  {
   "cell_type": "code",
   "execution_count": 38,
   "metadata": {},
   "outputs": [
    {
     "data": {
      "text/plain": [
       "[HumanMessage(content='what is ai agents', additional_kwargs={}, response_metadata={}),\n",
       " AIMessage(content='An AI agent is a software program that can interact with its environment, collect data, and use the data to perform self-determined tasks to meet predetermined goals.', additional_kwargs={}, response_metadata={}),\n",
       " HumanMessage(content='what is its applications', additional_kwargs={}, response_metadata={}),\n",
       " AIMessage(content=\"It's applications.\\n\\nExamples include:\\n\\n*   Self-driving cars\\n*   Chatbots\\n*   Personal assistants\\n*   Robotic systems\\n*   Contact center AI agents\\n*   Autonomous drones\\n*   Smart home devices\\n*   Healthcare diagnosis and treatment recommendations\\n*   Financial portfolio management\\n*   Virtual customer service\", additional_kwargs={}, response_metadata={})]"
      ]
     },
     "execution_count": 38,
     "metadata": {},
     "output_type": "execute_result"
    }
   ],
   "source": [
    "store['chat1'].messages"
   ]
  },
  {
   "cell_type": "code",
   "execution_count": null,
   "metadata": {},
   "outputs": [],
   "source": []
  }
 ],
 "metadata": {
  "kernelspec": {
   "display_name": "base",
   "language": "python",
   "name": "python3"
  },
  "language_info": {
   "codemirror_mode": {
    "name": "ipython",
    "version": 3
   },
   "file_extension": ".py",
   "mimetype": "text/x-python",
   "name": "python",
   "nbconvert_exporter": "python",
   "pygments_lexer": "ipython3",
   "version": "3.12.7"
  }
 },
 "nbformat": 4,
 "nbformat_minor": 2
}
